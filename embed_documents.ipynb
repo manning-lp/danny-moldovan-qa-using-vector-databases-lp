{
 "cells": [
  {
   "cell_type": "code",
   "execution_count": 1,
   "id": "2f769129-a645-46b7-a5e1-0c83e9945ea3",
   "metadata": {},
   "outputs": [],
   "source": [
    "!pip install tiktoken openai -q\n",
    "!pip install chromadb==0.4.15 -q"
   ]
  },
  {
   "cell_type": "code",
   "execution_count": 1,
   "id": "1353e6e3-cfd9-47e9-b828-72f996d814eb",
   "metadata": {},
   "outputs": [],
   "source": [
    "import chromadb\n",
    "from chromadb.config import DEFAULT_TENANT, DEFAULT_DATABASE, Settings\n",
    "from dotenv import load_dotenv\n",
    "from openai import OpenAI\n",
    "import os\n",
    "import json\n",
    "from tqdm import tqdm"
   ]
  },
  {
   "cell_type": "code",
   "execution_count": 29,
   "id": "c4a80b1e-439b-4e10-a564-2316dabd2340",
   "metadata": {},
   "outputs": [],
   "source": [
    "load_dotenv()\n",
    "\n",
    "client = OpenAI(api_key = os.getenv(\"OPENAI_API_KEY\"))"
   ]
  },
  {
   "cell_type": "code",
   "execution_count": 27,
   "id": "fc4e7afc-d275-49f1-8df8-d32fd1d88c70",
   "metadata": {},
   "outputs": [],
   "source": [
    "def read_jsonl(filename):\n",
    "    \"\"\"Reads a JSONL file and yields each line as a dictionary.\"\"\"\n",
    "    with open(filename, \"r\", encoding=\"utf-8\") as f:\n",
    "        for line in f:\n",
    "            try:\n",
    "                yield json.loads(line)\n",
    "            except json.JSONDecodeError:\n",
    "                print(f\"Skipping invalid JSON object: {line}\")"
   ]
  },
  {
   "cell_type": "code",
   "execution_count": 30,
   "id": "d29dc411-26f6-4df1-a3f3-a57275163fb6",
   "metadata": {},
   "outputs": [],
   "source": [
    "documents = read_jsonl(\"chunks.jsonl\")"
   ]
  },
  {
   "cell_type": "markdown",
   "id": "c1b591ff-e20c-498c-a11d-700ec4f00989",
   "metadata": {},
   "source": [
    "First version, using a custom embedding function (based on Open AI)"
   ]
  },
  {
   "cell_type": "code",
   "execution_count": 5,
   "id": "657161a6-5001-422f-894c-dd6e9e7d0d41",
   "metadata": {},
   "outputs": [],
   "source": [
    "chroma_client = chromadb.PersistentClient(\n",
    "    path=\"chromadb\",\n",
    "    settings=Settings(),\n",
    "    tenant=DEFAULT_TENANT,\n",
    "    database=DEFAULT_DATABASE,\n",
    ")"
   ]
  },
  {
   "cell_type": "code",
   "execution_count": 6,
   "id": "ede208c7-c59d-46d4-97be-d57d68c154d3",
   "metadata": {},
   "outputs": [],
   "source": [
    "#chroma_client.delete_collection(name=\"documents\")  \n",
    "\n",
    "collection = chroma_client.create_collection(name=\"documents\")"
   ]
  },
  {
   "cell_type": "code",
   "execution_count": 7,
   "id": "dedaa7aa-124d-470a-8620-94f021b93e2c",
   "metadata": {},
   "outputs": [],
   "source": [
    "def get_embedding(text, model=\"text-embedding-3-small\"):\n",
    "    list_texts_replaced = text.replace(\"\\n\", \" \")\n",
    "    return client.embeddings.create(input = [text], model=model).data[0].embedding\n",
    "    \n",
    "#get_embedding(\"I love Kitty\")"
   ]
  },
  {
   "cell_type": "code",
   "execution_count": 8,
   "id": "cc67d6e7-94fa-498b-b6c6-258af857d1e9",
   "metadata": {},
   "outputs": [
    {
     "name": "stderr",
     "output_type": "stream",
     "text": [
      "Processing documents: : 10it [00:02,  4.60it/s]\n"
     ]
    }
   ],
   "source": [
    "counter = 0\n",
    "\n",
    "for d in tqdm(documents, desc = \"Processing documents: \"):\n",
    "    collection.add(\n",
    "        documents = [d['page_content']],\n",
    "        metadatas = [{'source': d['source']}],\n",
    "        embeddings = [get_embedding(d['page_content'])],\n",
    "        ids = [str(d['id'])]\n",
    "    )\n",
    "    counter += 1\n",
    "    if counter > 10:\n",
    "        break"
   ]
  },
  {
   "cell_type": "markdown",
   "id": "9744d9b2-fc31-417f-9e25-451040c95435",
   "metadata": {},
   "source": [
    "Second version, using the Open AI embeddings"
   ]
  },
  {
   "cell_type": "code",
   "execution_count": 8,
   "id": "5a0d6457-70e5-4ce5-8036-5419e5920bdd",
   "metadata": {},
   "outputs": [],
   "source": [
    "!pip install -U langchain-openai -q"
   ]
  },
  {
   "cell_type": "code",
   "execution_count": 24,
   "id": "378a3557-03ca-4e5d-8bc4-3afccb9227f0",
   "metadata": {},
   "outputs": [],
   "source": [
    "import chromadb\n",
    "#from langchain.embeddings import OpenAIEmbeddings\n",
    "#from langchain.embeddings.openai import OpenAIEmbeddings\n",
    "from langchain_openai import OpenAIEmbeddings\n",
    "\n",
    "client = chromadb.PersistentClient(\n",
    "    path=\"chromadb2\",  # Specify the disk storage path\n",
    "    settings=Settings(),\n",
    "    tenant=DEFAULT_TENANT,\n",
    "    database=DEFAULT_DATABASE,\n",
    ")\n",
    "\n",
    "# Create OpenAI embeddings\n",
    "embedding_function = OpenAIEmbeddings()\n",
    "\n",
    "# Get or create a collection\n",
    "collection = client.get_or_create_collection(\n",
    "    name=\"documents\",\n",
    "    embedding_function=embedding_function.embed_documents,\n",
    "    #metadata={\"hnsw:space\": \"cosine\", \"hnsw:dim\": 1536}\n",
    ")"
   ]
  },
  {
   "cell_type": "code",
   "execution_count": 25,
   "id": "1b7d8c50-d305-411c-a957-3210d5c2ff2a",
   "metadata": {},
   "outputs": [
    {
     "data": {
      "text/plain": [
       "Settings(environment='', chroma_db_impl=None, chroma_api_impl='chromadb.api.segment.SegmentAPI', chroma_product_telemetry_impl='chromadb.telemetry.product.posthog.Posthog', chroma_telemetry_impl='chromadb.telemetry.product.posthog.Posthog', chroma_sysdb_impl='chromadb.db.impl.sqlite.SqliteDB', chroma_producer_impl='chromadb.db.impl.sqlite.SqliteDB', chroma_consumer_impl='chromadb.db.impl.sqlite.SqliteDB', chroma_segment_manager_impl='chromadb.segment.impl.manager.local.LocalSegmentManager', chroma_segment_directory_impl='chromadb.segment.impl.distributed.segment_directory.RendezvousHashSegmentDirectory', chroma_memberlist_provider_impl='chromadb.segment.impl.distributed.segment_directory.CustomResourceMemberlistProvider', chroma_collection_assignment_policy_impl='chromadb.ingest.impl.simple_policy.SimpleAssignmentPolicy', worker_memberlist_name='worker-memberlist', tenant_id='default', topic_namespace='default', is_persistent=True, persist_directory='chromadb2', chroma_server_host=None, chroma_server_headers=None, chroma_server_http_port=None, chroma_server_ssl_enabled=False, chroma_server_api_default_path='/api/v1', chroma_server_grpc_port=None, chroma_server_cors_allow_origins=[], pulsar_broker_url=None, pulsar_admin_port='8080', pulsar_broker_port='6650', chroma_server_auth_provider=None, chroma_server_auth_configuration_provider=None, chroma_server_auth_configuration_file=None, chroma_server_auth_credentials_provider=None, chroma_server_auth_credentials_file=None, chroma_server_auth_credentials=None, chroma_client_auth_provider=None, chroma_server_auth_ignore_paths={'/api/v1': ['GET'], '/api/v1/heartbeat': ['GET'], '/api/v1/version': ['GET']}, chroma_client_auth_credentials_provider='chromadb.auth.providers.ConfigurationClientAuthCredentialsProvider', chroma_client_auth_protocol_adapter='chromadb.auth.providers.RequestsClientAuthProtocolAdapter', chroma_client_auth_credentials_file=None, chroma_client_auth_credentials=None, chroma_client_auth_token_transport_header=None, chroma_server_auth_token_transport_header=None, anonymized_telemetry=True, chroma_otel_collection_endpoint='', chroma_otel_service_name='chromadb', chroma_otel_collection_headers={}, chroma_otel_granularity=None, allow_reset=False, migrations='apply', chroma_coordinator_host='localhost')"
      ]
     },
     "execution_count": 25,
     "metadata": {},
     "output_type": "execute_result"
    }
   ],
   "source": [
    "client.get_settings()"
   ]
  },
  {
   "cell_type": "code",
   "execution_count": 26,
   "id": "0f107b70-5faa-4174-91d6-1a3090f383d2",
   "metadata": {},
   "outputs": [
    {
     "name": "stdout",
     "output_type": "stream",
     "text": [
      "['__abstractmethods__', '__annotations__', '__class__', '__delattr__', '__dict__', '__dir__', '__doc__', '__eq__', '__format__', '__ge__', '__getattribute__', '__gt__', '__hash__', '__init__', '__init_subclass__', '__le__', '__lt__', '__module__', '__ne__', '__new__', '__reduce__', '__reduce_ex__', '__repr__', '__setattr__', '__sizeof__', '__slots__', '__str__', '__subclasshook__', '__weakref__', '_abc_impl', '_add', '_admin_client', '_count', '_create_system_if_not_exists', '_delete', '_get', '_get_identifier_from_settings', '_identifer_to_system', '_identifier', '_modify', '_peek', '_populate_data_from_system', '_query', '_server', '_system', '_update', '_upsert', '_validate_tenant_database', 'clear_system_cache', 'create_collection', 'database', 'delete_collection', 'from_system', 'get_collection', 'get_or_create_collection', 'get_settings', 'get_version', 'heartbeat', 'list_collections', 'max_batch_size', 'reset', 'set_database', 'set_tenant', 'tenant']\n"
     ]
    }
   ],
   "source": [
    "print(dir(client))"
   ]
  },
  {
   "cell_type": "code",
   "execution_count": 31,
   "id": "588f5bef-b572-4f34-8334-fcfe608da911",
   "metadata": {},
   "outputs": [
    {
     "name": "stderr",
     "output_type": "stream",
     "text": [
      "102it [03:38,  2.15s/it]                         \n"
     ]
    }
   ],
   "source": [
    "def chunked_generator(generator, chunk_size):\n",
    "    chunk = []\n",
    "    for item in generator:\n",
    "        chunk.append(item)\n",
    "        if len(chunk) == chunk_size:\n",
    "            yield chunk\n",
    "            chunk = []\n",
    "    if chunk:  # Yield the last chunk if it's not empty\n",
    "        yield chunk\n",
    "\n",
    "chunk_size = 100\n",
    "\n",
    "for chunk in tqdm(chunked_generator(documents, chunk_size), total = 10162 // chunk_size):\n",
    "    collection.add(\n",
    "        documents = [d['page_content'] for d in chunk],\n",
    "        metadatas = [{'source': d['source']} for d in chunk],\n",
    "        #embeddings = [get_embedding(d['page_content'])],\n",
    "        ids = [str(d['id']) for d in chunk]\n",
    "    )"
   ]
  },
  {
   "cell_type": "code",
   "execution_count": null,
   "id": "1c814f59-c856-4d4c-bc07-b955640a0bef",
   "metadata": {},
   "outputs": [],
   "source": []
  },
  {
   "cell_type": "code",
   "execution_count": null,
   "id": "da9ac2eb-6c25-4161-8c2f-53dd03fff821",
   "metadata": {},
   "outputs": [],
   "source": []
  }
 ],
 "metadata": {
  "kernelspec": {
   "display_name": "Python 3",
   "language": "python",
   "name": "python3"
  },
  "language_info": {
   "codemirror_mode": {
    "name": "ipython",
    "version": 3
   },
   "file_extension": ".py",
   "mimetype": "text/x-python",
   "name": "python",
   "nbconvert_exporter": "python",
   "pygments_lexer": "ipython3",
   "version": "3.10.10"
  }
 },
 "nbformat": 4,
 "nbformat_minor": 5
}
